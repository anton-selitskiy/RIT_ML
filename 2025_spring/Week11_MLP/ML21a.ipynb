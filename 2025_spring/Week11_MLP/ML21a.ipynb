{
  "nbformat": 4,
  "nbformat_minor": 0,
  "metadata": {
    "colab": {
      "provenance": []
    },
    "kernelspec": {
      "name": "python3",
      "display_name": "Python 3"
    },
    "language_info": {
      "name": "python"
    }
  },
  "cells": [
    {
      "cell_type": "markdown",
      "metadata": {
        "id": "gRbe8Kcr8GWN"
      },
      "source": [
        "#**Introduction to PyTorch: Automatic Differentiation**"
      ]
    },
    {
      "cell_type": "code",
      "metadata": {
        "id": "qFUAFYyiYnX4"
      },
      "source": [
        "import numpy as np\n",
        "import torch\n",
        "import sklearn.datasets\n",
        "import matplotlib.pyplot as plt\n",
        "from IPython.display import clear_output\n",
        "#%matplotlib inline"
      ],
      "execution_count": 1,
      "outputs": []
    },
    {
      "cell_type": "code",
      "metadata": {
        "colab": {
          "base_uri": "https://localhost:8080/"
        },
        "id": "kHyc1g0M-qPe",
        "outputId": "bfc6fa11-51e1-4b97-85d2-26377b920c66"
      },
      "source": [
        "# Create tensors\n",
        "a = torch.tensor(5, dtype = torch.long)\n",
        "b = torch.tensor(5, dtype = torch.int32)\n",
        "b.dtype"
      ],
      "execution_count": 2,
      "outputs": [
        {
          "output_type": "execute_result",
          "data": {
            "text/plain": [
              "torch.int32"
            ]
          },
          "metadata": {},
          "execution_count": 2
        }
      ]
    },
    {
      "cell_type": "markdown",
      "source": [
        "Comparison with numpy:\n",
        "https://github.com/torch/torch7/wiki/Torch-for-Numpy-users"
      ],
      "metadata": {
        "id": "iYmts6eMCjzN"
      }
    },
    {
      "cell_type": "code",
      "metadata": {
        "colab": {
          "base_uri": "https://localhost:8080/"
        },
        "id": "spLLH87sIboL",
        "outputId": "e590eba8-bee0-476d-c47e-ba650f4e688c"
      },
      "source": [
        "c = torch.ones(6)\n",
        "print(c, c.dtype)"
      ],
      "execution_count": 3,
      "outputs": [
        {
          "output_type": "stream",
          "name": "stdout",
          "text": [
            "tensor([1., 1., 1., 1., 1., 1.]) torch.float32\n"
          ]
        }
      ]
    },
    {
      "cell_type": "code",
      "metadata": {
        "colab": {
          "base_uri": "https://localhost:8080/"
        },
        "id": "k7TD7pTyLhx4",
        "outputId": "92ba9004-8981-4f78-d1c1-1d3699f0f686"
      },
      "source": [
        "# Shape\n",
        "c.size() #x.shape"
      ],
      "execution_count": 4,
      "outputs": [
        {
          "output_type": "execute_result",
          "data": {
            "text/plain": [
              "torch.Size([6])"
            ]
          },
          "metadata": {},
          "execution_count": 4
        }
      ]
    },
    {
      "cell_type": "code",
      "metadata": {
        "colab": {
          "base_uri": "https://localhost:8080/"
        },
        "id": "fOhZ8j7NImGR",
        "outputId": "8ed6d838-0d90-463e-bc51-ba1018678fe2"
      },
      "source": [
        "# Broadcasting\n",
        "d = c + 1\n",
        "print(d)"
      ],
      "execution_count": 5,
      "outputs": [
        {
          "output_type": "stream",
          "name": "stdout",
          "text": [
            "tensor([2., 2., 2., 2., 2., 2.])\n"
          ]
        }
      ]
    },
    {
      "cell_type": "code",
      "metadata": {
        "colab": {
          "base_uri": "https://localhost:8080/"
        },
        "id": "rVDo0fFREEfX",
        "outputId": "7445265f-4faa-4092-86cf-33be1f2b838a"
      },
      "source": [
        "# Change type\n",
        "b.float() #b.to(torch.float)\n",
        "b.dtype"
      ],
      "execution_count": 6,
      "outputs": [
        {
          "output_type": "execute_result",
          "data": {
            "text/plain": [
              "torch.int32"
            ]
          },
          "metadata": {},
          "execution_count": 6
        }
      ]
    },
    {
      "cell_type": "code",
      "metadata": {
        "colab": {
          "base_uri": "https://localhost:8080/"
        },
        "id": "UQ3LsvLjFOxZ",
        "outputId": "aef9ac02-52be-4c80-8cb6-2f40c525ef30"
      },
      "source": [
        "# Reshape tensors\n",
        "c.view(2,3)"
      ],
      "execution_count": 7,
      "outputs": [
        {
          "output_type": "execute_result",
          "data": {
            "text/plain": [
              "tensor([[1., 1., 1.],\n",
              "        [1., 1., 1.]])"
            ]
          },
          "metadata": {},
          "execution_count": 7
        }
      ]
    },
    {
      "cell_type": "code",
      "metadata": {
        "colab": {
          "base_uri": "https://localhost:8080/"
        },
        "id": "43qSMP_JGS1s",
        "outputId": "6da64759-73c3-4cdc-96f1-50d9513445ff"
      },
      "source": [
        "# Squeeze/Unsqueeze\n",
        "c.unsqueeze(dim=0).shape"
      ],
      "execution_count": 8,
      "outputs": [
        {
          "output_type": "execute_result",
          "data": {
            "text/plain": [
              "torch.Size([1, 6])"
            ]
          },
          "metadata": {},
          "execution_count": 8
        }
      ]
    },
    {
      "cell_type": "code",
      "metadata": {
        "id": "8NyOgp8SFS9z"
      },
      "source": [
        "# Dot product VS matrix multiplication"
      ],
      "execution_count": 9,
      "outputs": []
    },
    {
      "cell_type": "code",
      "metadata": {
        "id": "ZqTkukyHY_Xe",
        "colab": {
          "base_uri": "https://localhost:8080/"
        },
        "outputId": "a927bd82-5e5a-4150-81fc-6b026a52e730"
      },
      "source": [
        "d.dot(c) #torch.matmul(d.T,c)"
      ],
      "execution_count": 10,
      "outputs": [
        {
          "output_type": "execute_result",
          "data": {
            "text/plain": [
              "tensor(12.)"
            ]
          },
          "metadata": {},
          "execution_count": 10
        }
      ]
    },
    {
      "cell_type": "markdown",
      "source": [
        "###In-place operations\n",
        "\n",
        "The memory must be used efficiently when working with large tensors. Some operations create new object as the result of computations, others just change given object (in-place operations). In pytorch, these operations usually differ by adding an underscore:\n",
        "\n",
        "`x.exp()   # not-in-place operation`\n",
        "\n",
        "`x.exp_()  # in-place operation`\n",
        "\n"
      ],
      "metadata": {
        "id": "Id9lu0peFpZt"
      }
    },
    {
      "cell_type": "markdown",
      "metadata": {
        "id": "xI7lcI40HnLO"
      },
      "source": [
        "## Automatic Differentiation\n",
        "tensor.data, tensor.grad, tensor.grad_fn\n",
        "## Detaching variables\n",
        "\n",
        "`.detach()` returns a copy of a variable, through which backpropagation doesn't pass. If you average or just store batch losses during the optimization, you'd better detach those losses before averaging or storing. Otherwise the computational graphs for each batch would be stored in memory as well as batch losses, so you run out of memory very fast.\n",
        "\n",
        "Also there is in-place version (`.detach_()`) which doesn't create detached copy of the variable, but detach variable itself from its computational graph."
      ]
    },
    {
      "cell_type": "code",
      "metadata": {
        "id": "ccvARo18HmFW",
        "outputId": "e2c92e31-6aeb-4e4f-975b-684badf0d666",
        "colab": {
          "base_uri": "https://localhost:8080/"
        }
      },
      "source": [
        "a = torch.rand(1, requires_grad=True)\n",
        "b = torch.sin(a)"
      ],
      "execution_count": 15,
      "outputs": [
        {
          "output_type": "execute_result",
          "data": {
            "text/plain": [
              "tensor([0.])"
            ]
          },
          "metadata": {},
          "execution_count": 15
        }
      ]
    },
    {
      "cell_type": "markdown",
      "metadata": {
        "id": "VNi4wxsEmWpz"
      },
      "source": [
        "Use method tensor.backward() for b and print the derivative of b with respect to a (a.grad)."
      ]
    },
    {
      "cell_type": "code",
      "metadata": {
        "id": "b8X73_H7mW7_",
        "colab": {
          "base_uri": "https://localhost:8080/"
        },
        "outputId": "24c23d27-b64f-4cd9-bb0d-01628479345d"
      },
      "source": [
        "b.backward()\n",
        "print(a.grad, torch.cos(a.data))"
      ],
      "execution_count": 12,
      "outputs": [
        {
          "output_type": "stream",
          "name": "stdout",
          "text": [
            "tensor([0.7978]) tensor([0.7978])\n"
          ]
        }
      ]
    },
    {
      "cell_type": "code",
      "source": [
        "x = torch.randn(4, requires_grad=True)\n",
        "y0 = torch.randn(4, requires_grad=True)\n",
        "y = y0.detach()\n",
        "z = x * y + 10\n",
        "p = z.sum()\n",
        "p.backward()\n",
        "print('x:', x.data)\n",
        "print('y:', y.data)\n",
        "print('dp / dx:', x.grad)\n",
        "print('dp / dy:', y.grad)"
      ],
      "metadata": {
        "id": "zkcjo9z5H1_-"
      },
      "execution_count": null,
      "outputs": []
    },
    {
      "cell_type": "markdown",
      "source": [
        "##Gradient reset"
      ],
      "metadata": {
        "id": "qPg0PpEWIEPo"
      }
    },
    {
      "cell_type": "code",
      "source": [
        "x = torch.tensor([1, 1, 1, 1.], requires_grad=True)\n",
        "y = x ** 2\n",
        "p = y.sum()\n",
        "p.backward()\n",
        "print('x:', x)\n",
        "print('dp / dx:', x.grad)\n",
        "x.grad.detach_()       # extracting gradient Variable from the previous computational graph (optional)\n",
        "x.grad.zero_()         # zero gradinents\n",
        "y = 1 / x\n",
        "p = y.sum()\n",
        "p.backward()\n",
        "print('x:', x)\n",
        "print('dp / dx:', x.grad)"
      ],
      "metadata": {
        "id": "Hm3nBbPGIIUd"
      },
      "execution_count": null,
      "outputs": []
    },
    {
      "cell_type": "markdown",
      "source": [
        "##Leaf vs Non-leaf Variable"
      ],
      "metadata": {
        "id": "MAU6pqqmIU0J"
      }
    },
    {
      "cell_type": "code",
      "source": [
        "x = torch.randn(4, requires_grad=True)  # leaf variable\n",
        "y = x + 1                               # not a leaf variable\n",
        "p = y.sum()                             # not a leaf variable\n",
        "p.backward()\n",
        "print('x:', x)\n",
        "print('y:', y)\n",
        "print('p:', p)\n",
        "print('x.grad:', x.grad)\n",
        "print('y.grad:', y.grad)\n",
        "print('p.grad:', p.grad)"
      ],
      "metadata": {
        "id": "og5CoaMrIWN0"
      },
      "execution_count": null,
      "outputs": []
    },
    {
      "cell_type": "markdown",
      "source": [
        "##Gradients for non-leaf variables"
      ],
      "metadata": {
        "id": "BY1CXo_rIjNN"
      }
    },
    {
      "cell_type": "code",
      "source": [
        "x = torch.randn(4, requires_grad=True)   # leaf variable\n",
        "z = torch.randn(4, requires_grad=True)   # leaf variable\n",
        "w = z * 2      # not a leaf variable\n",
        "y = x * w + 1  # forward pass before retaining gradient is ok\n",
        "p = y.sum()\n",
        "\n",
        "w.retain_grad()\n",
        "\n",
        "p.backward()\n",
        "print('dp / dx:', x.grad)\n",
        "print('dp / dz:', z.grad)\n",
        "print('dp / dw:', w.grad)"
      ],
      "metadata": {
        "id": "oQ8AK5u2Ikr6"
      },
      "execution_count": null,
      "outputs": []
    },
    {
      "cell_type": "markdown",
      "metadata": {
        "id": "wyqHVvv7nCw4"
      },
      "source": [
        "## In this section, we use atomatic differentiation for the Gradient Descend"
      ]
    },
    {
      "cell_type": "code",
      "source": [
        "torch.manual_seed(0)\n",
        "x = torch.linspace(1, 5, 20)\n",
        "y = 2*x + 1 + 5*torch.rand(len(x))"
      ],
      "metadata": {
        "id": "OmyTS55GJrWr"
      },
      "execution_count": 17,
      "outputs": []
    },
    {
      "cell_type": "code",
      "source": [
        "plt.scatter(x,y)"
      ],
      "metadata": {
        "id": "HVDoWuQRKKmE",
        "outputId": "066c56dd-3d5b-44e3-da0b-3feb47de6219",
        "colab": {
          "base_uri": "https://localhost:8080/",
          "height": 448
        }
      },
      "execution_count": 18,
      "outputs": [
        {
          "output_type": "execute_result",
          "data": {
            "text/plain": [
              "<matplotlib.collections.PathCollection at 0x7811429706d0>"
            ]
          },
          "metadata": {},
          "execution_count": 18
        },
        {
          "output_type": "display_data",
          "data": {
            "text/plain": [
              "<Figure size 640x480 with 1 Axes>"
            ],
            "image/png": "[encoded data removed]"
          },
          "metadata": {}
        }
      ]
    },
    {
      "cell_type": "markdown",
      "source": [
        "### Q1 (1 pt).   Initialize the weights and bais with gradients (see example with `sin(a)`)."
      ],
      "metadata": {
        "id": "I3MwUe-yiaEO"
      }
    },
    {
      "cell_type": "code",
      "source": [
        "w = #your code\n",
        "b = #your code"
      ],
      "metadata": {
        "id": "d8ptu7DYiUiY"
      },
      "execution_count": null,
      "outputs": []
    },
    {
      "cell_type": "markdown",
      "source": [
        "### Q2 (2pt). Write the gradient descent using automated calculation of the gradients of `w` and `b`."
      ],
      "metadata": {
        "id": "LhRDzO-8jZsS"
      }
    },
    {
      "cell_type": "code",
      "source": [
        "alpha = 0.001 #learning rate\n",
        "for i in range(100):   #number of epochs\n",
        "  #if the gradients are non empty, zero them:\n",
        "\n",
        "  # calculate prediction y_p = w*x+b:\n",
        "  y_p =\n",
        "\n",
        "  # calculate loss mean((y_p-y)**2):\n",
        "  loss =\n",
        "\n",
        "  # run loss.backward() to calculate the derivatives\n",
        "\n",
        "  # update the values of w and b, using learning rate alpha and gradients\n",
        "  w.data =\n",
        "  b.data =\n",
        "\n",
        "  #visualisation:\n",
        "  if (i + 1) % 5 == 0:\n",
        "    clear_output(True)\n",
        "    plt.figure(figsize=(10,8))\n",
        "    plt.scatter(x, y, label=\"data\")\n",
        "    plt.scatter(x, y_p.data.numpy(), color=\"orange\", linewidth=5, label=\"predictions\")\n",
        "    plt.xlabel(\"x\", fontsize=14)\n",
        "    plt.ylabel(\"y\", fontsize=14)\n",
        "    plt.title(\"Example\", fontsize=18)\n",
        "    plt.legend(fontsize=14)\n",
        "    plt.show()"
      ],
      "metadata": {
        "id": "PYepGweZiUyE"
      },
      "execution_count": null,
      "outputs": []
    },
    {
      "cell_type": "code",
      "source": [],
      "metadata": {
        "id": "0BiSX3mzhyvu"
      },
      "execution_count": null,
      "outputs": []
    }
  ]
}