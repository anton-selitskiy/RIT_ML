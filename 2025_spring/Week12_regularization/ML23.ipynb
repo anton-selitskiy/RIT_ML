{
  "nbformat": 4,
  "nbformat_minor": 0,
  "metadata": {
    "colab": {
      "provenance": []
    },
    "kernelspec": {
      "name": "python3",
      "display_name": "Python 3"
    },
    "language_info": {
      "name": "python"
    }
  },
  "cells": [
    {
      "cell_type": "code",
      "execution_count": 1,
      "metadata": {
        "id": "b73te8utxZzr"
      },
      "outputs": [],
      "source": [
        "import torch\n",
        "from torch.utils.data import Dataset, DataLoader\n",
        "from torchvision.io import read_image\n",
        "import matplotlib.pyplot as plt"
      ]
    },
    {
      "cell_type": "code",
      "source": [
        "# https://www.kaggle.com/datasets/playlist/mnistzip/\n",
        "!unzip archive.zip"
      ],
      "metadata": {
        "id": "i-LqxPZAyGkU"
      },
      "execution_count": 22,
      "outputs": []
    },
    {
      "cell_type": "code",
      "source": [
        "im = read_image('mnist_png/valid/9/9497.png')"
      ],
      "metadata": {
        "id": "AY67U3RuzBP1"
      },
      "execution_count": 4,
      "outputs": []
    },
    {
      "cell_type": "code",
      "source": [
        "plt.imshow(im.permute(1, 2, 0)/255, cmap='gray')"
      ],
      "metadata": {
        "colab": {
          "base_uri": "https://localhost:8080/",
          "height": 448
        },
        "id": "ntQXgrWV0oIp",
        "outputId": "b6c250b5-c543-4cff-d555-f487d9b0ece0"
      },
      "execution_count": 9,
      "outputs": [
        {
          "output_type": "execute_result",
          "data": {
            "text/plain": [
              "<matplotlib.image.AxesImage at 0x7f0c5c62afd0>"
            ]
          },
          "metadata": {},
          "execution_count": 9
        },
        {
          "output_type": "display_data",
          "data": {
            "text/plain": [
              "<Figure size 640x480 with 1 Axes>"
            ],
            "image/png": "[encoded data removed]"
          },
          "metadata": {}
        }
      ]
    },
    {
      "cell_type": "code",
      "source": [
        "root_dir = 'mnist_png'"
      ],
      "metadata": {
        "id": "-u0u0LG_0sHD"
      },
      "execution_count": 10,
      "outputs": []
    },
    {
      "cell_type": "code",
      "source": [
        "import pathlib"
      ],
      "metadata": {
        "id": "dpSRw6oE1nTI"
      },
      "execution_count": 11,
      "outputs": []
    },
    {
      "cell_type": "code",
      "source": [
        "class MNIST_dataset(Dataset):\n",
        "  def __init__(self, path_to_data):\n",
        "    super().__init__()\n",
        "    self.path_to_data = pathlib.Path(path_to_data)\n",
        "    self.paths = list(self.path_to_data.rglob('*.png'))\n",
        "\n",
        "  def __len__(self):\n",
        "    return len(self.paths)\n",
        "\n",
        "  def __getitem__(self, index):\n",
        "     return read_image(self.paths[index].as_posix()).squeeze(dim=0)/255, \\\n",
        "        torch.tensor(int(self.paths[index].as_posix().split('/')[-2]))"
      ],
      "metadata": {
        "id": "B3rBLHEz1sK2"
      },
      "execution_count": 15,
      "outputs": []
    },
    {
      "cell_type": "code",
      "source": [
        "train_data = MNIST_dataset(root_dir)"
      ],
      "metadata": {
        "id": "mzp2NJAP2nPc"
      },
      "execution_count": 16,
      "outputs": []
    },
    {
      "cell_type": "code",
      "source": [
        "val_data = MNIST_dataset(root_dir+'/valid')"
      ],
      "metadata": {
        "id": "fYP8uGad2stH"
      },
      "execution_count": 19,
      "outputs": []
    },
    {
      "cell_type": "code",
      "source": [
        "train_data_loader = DataLoader(train_data, batch_size=64, shuffle=True)\n",
        "valid_data_loader = DataLoader(val_data, batch_size=64, shuffle=False)"
      ],
      "metadata": {
        "id": "MyjwPh1428Cz"
      },
      "execution_count": 20,
      "outputs": []
    },
    {
      "cell_type": "code",
      "source": [
        "import torch.nn as nn\n",
        "from torch.optim import Adam"
      ],
      "metadata": {
        "id": "ILoHDKy93IIy"
      },
      "execution_count": 21,
      "outputs": []
    },
    {
      "cell_type": "code",
      "source": [
        "class MyModel(nn.Module):\n",
        "  def __init__(self, h_d):\n",
        "    super().__init__()\n",
        "    self.f = nn.Sequential(nn.Flatten(1,-1),\n",
        "      nn.Linear(28*28, h_d),\n",
        "      nn.ReLU(),\n",
        "      nn.Linear(h_d, 10),\n",
        "      #self.out = nn.Softmax(-1)\n",
        "      )\n",
        "\n",
        "  def forward(self, x):\n",
        "      # o= self.flat(x)\n",
        "      # o = self.fc1(o)\n",
        "      # o = self.a(o)\n",
        "      # o = self.fc2(o)\n",
        "      return self.f(x) #self.out(o)"
      ],
      "metadata": {
        "id": "w4BO0IHD3NK6"
      },
      "execution_count": null,
      "outputs": []
    },
    {
      "cell_type": "code",
      "source": [],
      "metadata": {
        "id": "sj4e_6pj_9aM"
      },
      "execution_count": null,
      "outputs": []
    }
  ]
}