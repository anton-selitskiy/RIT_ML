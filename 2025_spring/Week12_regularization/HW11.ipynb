{
  "nbformat": 4,
  "nbformat_minor": 0,
  "metadata": {
    "colab": {
      "provenance": []
    },
    "kernelspec": {
      "name": "python3",
      "display_name": "Python 3"
    },
    "language_info": {
      "name": "python"
    }
  },
  "cells": [
    {
      "cell_type": "markdown",
      "source": [
        "# Homework 11 (20pt)\n",
        "\n",
        "In this assignment, you will apply an MLP/FFN (remember, multilayer perceptron and fully connected neural network mean the same thing) for handwritten digit recognition.\n",
        "\n",
        "__Do not__ use datasets with preprocessed images in NumPy or Torch formats. You can either upload the data to Google Drive and mount it in Colab (so, you don't need to upload it every time), or download it manually from:  \n",
        "https://www.kaggle.com/datasets/playlist/mnistzip/\n",
        "\n",
        "Submit your Jupyter notebook, the saved model weights, and the images from the last question. You may submit multiple files or a single archived (e.g., `.zip`) file.\n"
      ],
      "metadata": {
        "id": "Zp5Oj61Q08a2"
      }
    },
    {
      "cell_type": "markdown",
      "source": [
        "### Q1 (1pt) Download MNIST dataset"
      ],
      "metadata": {
        "id": "r4sbihcf20ww"
      }
    },
    {
      "cell_type": "code",
      "execution_count": null,
      "metadata": {
        "id": "nVaaPkQH01x1"
      },
      "outputs": [],
      "source": []
    },
    {
      "cell_type": "code",
      "source": [],
      "metadata": {
        "id": "NXN1In1s3A8y"
      },
      "execution_count": null,
      "outputs": []
    },
    {
      "cell_type": "code",
      "source": [],
      "metadata": {
        "id": "qBwx2QjI3A_F"
      },
      "execution_count": null,
      "outputs": []
    },
    {
      "cell_type": "code",
      "source": [],
      "metadata": {
        "id": "4jmiODtR3BCr"
      },
      "execution_count": null,
      "outputs": []
    },
    {
      "cell_type": "markdown",
      "source": [
        "### Q2 (2pt) Create Train and Validation Dataset and DataLoader objects"
      ],
      "metadata": {
        "id": "EgZnMPn03Byi"
      }
    },
    {
      "cell_type": "code",
      "source": [],
      "metadata": {
        "id": "jmpSdFnf3H6_"
      },
      "execution_count": null,
      "outputs": []
    },
    {
      "cell_type": "code",
      "source": [],
      "metadata": {
        "id": "pTKCpJWt3I_Y"
      },
      "execution_count": null,
      "outputs": []
    },
    {
      "cell_type": "code",
      "source": [],
      "metadata": {
        "id": "AXB53Uw13JCB"
      },
      "execution_count": null,
      "outputs": []
    },
    {
      "cell_type": "code",
      "source": [],
      "metadata": {
        "id": "V7opDVLO3JFa"
      },
      "execution_count": null,
      "outputs": []
    },
    {
      "cell_type": "markdown",
      "source": [
        "### Q3 (4pt) Define the model: the number of hidden layers and their size/dimentions. Make sure you are using __more than one hidden layer__"
      ],
      "metadata": {
        "id": "EPnyhzLX3JiG"
      }
    },
    {
      "cell_type": "code",
      "source": [],
      "metadata": {
        "id": "ot3nwbnK3PJN"
      },
      "execution_count": null,
      "outputs": []
    },
    {
      "cell_type": "code",
      "source": [],
      "metadata": {
        "id": "z0GBB7EC3X1f"
      },
      "execution_count": null,
      "outputs": []
    },
    {
      "cell_type": "code",
      "source": [],
      "metadata": {
        "id": "rvURxmiT3X4N"
      },
      "execution_count": null,
      "outputs": []
    },
    {
      "cell_type": "code",
      "source": [],
      "metadata": {
        "id": "tviXAzat3X71"
      },
      "execution_count": null,
      "outputs": []
    },
    {
      "cell_type": "markdown",
      "source": [
        "### Q4 (4pt) Write the training loop. Use accuracy as the metric on the Validation set. You can use early stopping or just observe the validation curve"
      ],
      "metadata": {
        "id": "4pIA4yHI3Y1l"
      }
    },
    {
      "cell_type": "code",
      "source": [],
      "metadata": {
        "id": "JYe79h8T3gqY"
      },
      "execution_count": null,
      "outputs": []
    },
    {
      "cell_type": "code",
      "source": [],
      "metadata": {
        "id": "BTWaKLmO3lZq"
      },
      "execution_count": null,
      "outputs": []
    },
    {
      "cell_type": "code",
      "source": [],
      "metadata": {
        "id": "NJK6M2BQ3ldK"
      },
      "execution_count": null,
      "outputs": []
    },
    {
      "cell_type": "code",
      "source": [],
      "metadata": {
        "id": "xfcV2hLX3lmg"
      },
      "execution_count": null,
      "outputs": []
    },
    {
      "cell_type": "markdown",
      "source": [
        "### Q5 (2pt) Plot the training loss and validation accuracy. You can use Tensorboard"
      ],
      "metadata": {
        "id": "_qVjrvSy3l7K"
      }
    },
    {
      "cell_type": "code",
      "source": [],
      "metadata": {
        "id": "8XF-u-dX3rhh"
      },
      "execution_count": null,
      "outputs": []
    },
    {
      "cell_type": "code",
      "source": [],
      "metadata": {
        "id": "KJHd0d5A3sCH"
      },
      "execution_count": null,
      "outputs": []
    },
    {
      "cell_type": "code",
      "source": [],
      "metadata": {
        "id": "GJ30cPha3sFl"
      },
      "execution_count": null,
      "outputs": []
    },
    {
      "cell_type": "code",
      "source": [],
      "metadata": {
        "id": "3dP__JAt3sP-"
      },
      "execution_count": null,
      "outputs": []
    },
    {
      "cell_type": "markdown",
      "source": [
        "### Q6 (3pt) Calculate the accuracy on the validation set. __It should be > 0.97__"
      ],
      "metadata": {
        "id": "tFkdl2Xs3si9"
      }
    },
    {
      "cell_type": "code",
      "source": [],
      "metadata": {
        "id": "1wQEkPFl3x5i"
      },
      "execution_count": null,
      "outputs": []
    },
    {
      "cell_type": "code",
      "source": [],
      "metadata": {
        "id": "TMbsBDWy34Cn"
      },
      "execution_count": null,
      "outputs": []
    },
    {
      "cell_type": "code",
      "source": [],
      "metadata": {
        "id": "F48kqgfK34Ez"
      },
      "execution_count": null,
      "outputs": []
    },
    {
      "cell_type": "code",
      "source": [],
      "metadata": {
        "id": "M_ubzHBR34IT"
      },
      "execution_count": null,
      "outputs": []
    },
    {
      "cell_type": "markdown",
      "source": [
        "### Q7 (4pt) Create three images, one with a digit not in the middle, and apply your trained model to them"
      ],
      "metadata": {
        "id": "6cBGfin534jm"
      }
    },
    {
      "cell_type": "code",
      "source": [],
      "metadata": {
        "id": "wWIb3bVn3-ku"
      },
      "execution_count": null,
      "outputs": []
    }
  ]
}