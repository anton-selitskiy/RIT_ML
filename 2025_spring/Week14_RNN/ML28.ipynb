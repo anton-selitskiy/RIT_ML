{
  "nbformat": 4,
  "nbformat_minor": 0,
  "metadata": {
    "colab": {
      "provenance": []
    },
    "kernelspec": {
      "name": "python3",
      "display_name": "Python 3"
    },
    "language_info": {
      "name": "python"
    }
  },
  "cells": [
    {
      "cell_type": "markdown",
      "source": [
        "# Recurrent Neural Networks (RNN)\n",
        "Credits for the idea: https://youtu.be/WEV61GmmPrk?si=rH3aM34l6iGut_HG"
      ],
      "metadata": {
        "id": "HNgzS_63CQMv"
      }
    },
    {
      "cell_type": "code",
      "source": [
        "import string\n",
        "import unicodedata\n",
        "from pathlib import Path\n",
        "import torch\n",
        "from torch.utils.data import Dataset, DataLoader\n",
        "import torch.nn as nn"
      ],
      "metadata": {
        "id": "Yj3fU29reUQW"
      },
      "execution_count": 1,
      "outputs": []
    },
    {
      "cell_type": "code",
      "execution_count": 2,
      "metadata": {
        "colab": {
          "base_uri": "https://localhost:8080/"
        },
        "id": "5j4J-PRfb86y",
        "outputId": "ed93fbb5-0fcd-4647-aa10-6f494363329a"
      },
      "outputs": [
        {
          "output_type": "stream",
          "name": "stdout",
          "text": [
            "--2023-12-04 06:50:08--  https://download.pytorch.org/tutorial/data.zip\n",
            "Resolving download.pytorch.org (download.pytorch.org)... 18.160.143.101, 18.160.143.107, 18.160.143.48, ...\n",
            "Connecting to download.pytorch.org (download.pytorch.org)|18.160.143.101|:443... connected.\n",
            "HTTP request sent, awaiting response... 200 OK\n",
            "Length: 2882130 (2.7M) [application/zip]\n",
            "Saving to: ‘data.zip’\n",
            "\n",
            "\rdata.zip              0%[                    ]       0  --.-KB/s               \rdata.zip            100%[===================>]   2.75M  --.-KB/s    in 0.1s    \n",
            "\n",
            "2023-12-04 06:50:08 (26.3 MB/s) - ‘data.zip’ saved [2882130/2882130]\n",
            "\n"
          ]
        }
      ],
      "source": [
        "#dataset\n",
        "!wget \"https://download.pytorch.org/tutorial/data.zip\""
      ]
    },
    {
      "cell_type": "code",
      "source": [
        "!unzip data.zip"
      ],
      "metadata": {
        "colab": {
          "base_uri": "https://localhost:8080/"
        },
        "id": "M5RJPdrFcFvA",
        "outputId": "f262ca92-45ff-498a-e472-8399c3a0b368"
      },
      "execution_count": 3,
      "outputs": [
        {
          "output_type": "stream",
          "name": "stdout",
          "text": [
            "Archive:  data.zip\n",
            "   creating: data/\n",
            "  inflating: data/eng-fra.txt        \n",
            "   creating: data/names/\n",
            "  inflating: data/names/Arabic.txt   \n",
            "  inflating: data/names/Chinese.txt  \n",
            "  inflating: data/names/Czech.txt    \n",
            "  inflating: data/names/Dutch.txt    \n",
            "  inflating: data/names/English.txt  \n",
            "  inflating: data/names/French.txt   \n",
            "  inflating: data/names/German.txt   \n",
            "  inflating: data/names/Greek.txt    \n",
            "  inflating: data/names/Irish.txt    \n",
            "  inflating: data/names/Italian.txt  \n",
            "  inflating: data/names/Japanese.txt  \n",
            "  inflating: data/names/Korean.txt   \n",
            "  inflating: data/names/Polish.txt   \n",
            "  inflating: data/names/Portuguese.txt  \n",
            "  inflating: data/names/Russian.txt  \n",
            "  inflating: data/names/Scottish.txt  \n",
            "  inflating: data/names/Spanish.txt  \n",
            "  inflating: data/names/Vietnamese.txt  \n"
          ]
        }
      ]
    },
    {
      "cell_type": "code",
      "source": [
        "ALL_LETTERS = string.ascii_letters + \" .,;'\""
      ],
      "metadata": {
        "id": "2o4QjQsPdt87"
      },
      "execution_count": 4,
      "outputs": []
    },
    {
      "cell_type": "code",
      "source": [
        "ALL_LETTERS"
      ],
      "metadata": {
        "colab": {
          "base_uri": "https://localhost:8080/",
          "height": 35
        },
        "id": "QT6ze4Z7eavr",
        "outputId": "c725facf-07d5-40db-cf54-4ff770335945"
      },
      "execution_count": 5,
      "outputs": [
        {
          "output_type": "execute_result",
          "data": {
            "text/plain": [
              "\"abcdefghijklmnopqrstuvwxyzABCDEFGHIJKLMNOPQRSTUVWXYZ .,;'\""
            ],
            "application/vnd.google.colaboratory.intrinsic+json": {
              "type": "string"
            }
          },
          "metadata": {},
          "execution_count": 5
        }
      ]
    },
    {
      "cell_type": "code",
      "source": [
        "def unicode_to_ascii(s):\n",
        "    return ''.join(\n",
        "        c for c in unicodedata.normalize('NFD', s)\n",
        "        if unicodedata.category(c) != 'Mn'\n",
        "        and c in ALL_LETTERS\n",
        "    )"
      ],
      "metadata": {
        "id": "rE0aabVoedty"
      },
      "execution_count": 6,
      "outputs": []
    },
    {
      "cell_type": "code",
      "source": [
        "path = Path('data/names')"
      ],
      "metadata": {
        "id": "9SeheQJjfCcy"
      },
      "execution_count": 7,
      "outputs": []
    },
    {
      "cell_type": "code",
      "source": [
        "paths = list(path.rglob('*.txt'))"
      ],
      "metadata": {
        "id": "sh-dPB54iT6H"
      },
      "execution_count": 8,
      "outputs": []
    },
    {
      "cell_type": "code",
      "source": [
        "paths[0].as_posix()"
      ],
      "metadata": {
        "colab": {
          "base_uri": "https://localhost:8080/",
          "height": 35
        },
        "id": "XXe-ZmorigFT",
        "outputId": "f81555c8-82ae-43c8-ce63-78f2c48e4334"
      },
      "execution_count": 9,
      "outputs": [
        {
          "output_type": "execute_result",
          "data": {
            "text/plain": [
              "'data/names/Dutch.txt'"
            ],
            "application/vnd.google.colaboratory.intrinsic+json": {
              "type": "string"
            }
          },
          "metadata": {},
          "execution_count": 9
        }
      ]
    },
    {
      "cell_type": "code",
      "source": [
        "raw_data = []\n",
        "country_dic ={}\n",
        "idx = 0\n",
        "for path_to_file in paths:\n",
        "  country_dic[path_to_file.as_posix().split('/')[-1][:-4]] = idx\n",
        "  idx += 1\n",
        "  with open(path_to_file.as_posix()) as file:\n",
        "    for line in file:\n",
        "      raw_data.append((line.strip(), path_to_file.as_posix().split('/')[-1][:-4]))"
      ],
      "metadata": {
        "id": "w7XWsJe_jUBU"
      },
      "execution_count": 10,
      "outputs": []
    },
    {
      "cell_type": "code",
      "source": [
        "raw_data[0]"
      ],
      "metadata": {
        "colab": {
          "base_uri": "https://localhost:8080/"
        },
        "id": "1zOpimgkmklF",
        "outputId": "dca8f759-36d9-4463-edf2-c2f821dfd126"
      },
      "execution_count": 11,
      "outputs": [
        {
          "output_type": "execute_result",
          "data": {
            "text/plain": [
              "('Aalsburg', 'Dutch')"
            ]
          },
          "metadata": {},
          "execution_count": 11
        }
      ]
    },
    {
      "cell_type": "code",
      "source": [
        "country_dic"
      ],
      "metadata": {
        "colab": {
          "base_uri": "https://localhost:8080/"
        },
        "id": "QsLj6qGUmsjW",
        "outputId": "23c43052-f8fb-467b-aaa1-4cfc79b5ee50"
      },
      "execution_count": 12,
      "outputs": [
        {
          "output_type": "execute_result",
          "data": {
            "text/plain": [
              "{'Dutch': 0,\n",
              " 'Scottish': 1,\n",
              " 'Polish': 2,\n",
              " 'German': 3,\n",
              " 'Russian': 4,\n",
              " 'Arabic': 5,\n",
              " 'Irish': 6,\n",
              " 'Czech': 7,\n",
              " 'Korean': 8,\n",
              " 'Japanese': 9,\n",
              " 'Vietnamese': 10,\n",
              " 'Portuguese': 11,\n",
              " 'French': 12,\n",
              " 'Greek': 13,\n",
              " 'Italian': 14,\n",
              " 'English': 15,\n",
              " 'Chinese': 16,\n",
              " 'Spanish': 17}"
            ]
          },
          "metadata": {},
          "execution_count": 12
        }
      ]
    },
    {
      "cell_type": "code",
      "source": [
        "class MyData(Dataset):\n",
        "  def __init__(self, data, country_dict):\n",
        "    super().__init__()\n",
        "    self.data = data\n",
        "    self.country_dict = country_dict\n",
        "  def __len__(self):\n",
        "    return len(self.data)\n",
        "  def __getitem__(self, index):\n",
        "    name, country = self.data[index]\n",
        "    name = unicode_to_ascii(name)\n",
        "    country = country_dic[country]\n",
        "    name_list = []\n",
        "    for char in name:\n",
        "      char_one_hot = torch.zeros((len(ALL_LETTERS),1))\n",
        "      char_one_hot[ALL_LETTERS.find(char),0] = 1\n",
        "      name_list.append(char_one_hot)\n",
        "      #name_list.append(torch.tensor(ALL_LETTERS.find(char)))\n",
        "    return torch.cat(name_list, dim=1).T, torch.tensor(country)\n",
        "    #return torch.stack(name_list), torch.tensor(country)"
      ],
      "metadata": {
        "id": "g0ZBovU8oXp_"
      },
      "execution_count": 13,
      "outputs": []
    },
    {
      "cell_type": "code",
      "source": [
        "data = MyData(raw_data, country_dic)"
      ],
      "metadata": {
        "id": "SLuRkz6-nyf9"
      },
      "execution_count": 14,
      "outputs": []
    },
    {
      "cell_type": "code",
      "source": [
        "data[0][0].shape"
      ],
      "metadata": {
        "colab": {
          "base_uri": "https://localhost:8080/"
        },
        "id": "b6cwohEorXVQ",
        "outputId": "d426a20a-675b-4ae2-adfe-3534adc2fdee"
      },
      "execution_count": 15,
      "outputs": [
        {
          "output_type": "execute_result",
          "data": {
            "text/plain": [
              "torch.Size([8, 57])"
            ]
          },
          "metadata": {},
          "execution_count": 15
        }
      ]
    },
    {
      "cell_type": "code",
      "source": [
        "data_loader = DataLoader(data, batch_size=1, shuffle=True)"
      ],
      "metadata": {
        "id": "u014j0derYf1"
      },
      "execution_count": 16,
      "outputs": []
    },
    {
      "cell_type": "code",
      "source": [
        "class RNN(nn.Module):\n",
        "  def __init__(self, in_size, hidden_size):\n",
        "    super().__init__()\n",
        "    self.in_size = in_size\n",
        "    self.hidden_size = hidden_size\n",
        "    self.linear = nn.Linear(in_size+hidden_size, hidden_size)\n",
        "    self.linear_out = nn.Linear(hidden_size, len(country_dic))\n",
        "    # self.rnn = nn.RNN(in_size, hidden_size, batch_first=True)\n",
        "    #self.lstm = nn.LSTM(in_size, hidden_size, batch_first=True)\n",
        "    #self.emb = nn.Embedding(57,16)\n",
        "\n",
        "  def forward(self, x):\n",
        "    self.h0 = torch.zeros((x.shape[0], self.hidden_size))\n",
        "    out = []\n",
        "    for i in range(x.shape[1]):\n",
        "      self.h0 = nn.functional.tanh(self.linear(torch.cat([self.h0,x[:,i,:]], dim=1)))\n",
        "      out.append(self.h0)\n",
        "    return self.linear_out(out[-1])\n",
        "    # out, h = self.rnn(x)\n",
        "    # return self.linear_out(out[:,-1,:])\n",
        "    # x = self.emb(x)\n",
        "    # out, _ = self.lstm(x)\n",
        "    # return self.linear_out(out[:,-1,:])\n",
        "\n"
      ],
      "metadata": {
        "id": "jZ2BrXvTtiOb"
      },
      "execution_count": 17,
      "outputs": []
    },
    {
      "cell_type": "code",
      "source": [
        "my_RNN = RNN(57, 100)\n",
        "#my_RNN = RNN(16, 32)"
      ],
      "metadata": {
        "id": "gXdCaVwCw5M0"
      },
      "execution_count": 18,
      "outputs": []
    },
    {
      "cell_type": "code",
      "source": [
        "#my_RNN.emb(torch.tensor([1,2,3,4])).shape"
      ],
      "metadata": {
        "id": "fVnJLK1gAfT0"
      },
      "execution_count": 19,
      "outputs": []
    },
    {
      "cell_type": "code",
      "source": [
        "creterion = nn.CrossEntropyLoss()\n",
        "optimizer = torch.optim.Adam(my_RNN.parameters())"
      ],
      "metadata": {
        "id": "URMbr0PZybXq"
      },
      "execution_count": 20,
      "outputs": []
    },
    {
      "cell_type": "code",
      "source": [
        "from tqdm import tqdm"
      ],
      "metadata": {
        "id": "9nOh-YzS1Hqd"
      },
      "execution_count": 21,
      "outputs": []
    },
    {
      "cell_type": "code",
      "source": [
        "for epoch in range(1):\n",
        "  pbar = tqdm(data_loader, total=len(data_loader))\n",
        "  for x, y in pbar: #data_loader:\n",
        "    y_pred = my_RNN.forward(x) #[-1]\n",
        "    #print(y_pred)\n",
        "    loss = creterion(y_pred, y)\n",
        "    loss.backward()\n",
        "    optimizer.step()\n",
        "    optimizer.zero_grad()\n",
        "    pbar.set_description(f\"Loss: {round(loss.item(), 4)} \")"
      ],
      "metadata": {
        "colab": {
          "base_uri": "https://localhost:8080/"
        },
        "id": "ZjiwmJnAxCse",
        "outputId": "ba4f299c-95ab-4796-db9f-3d3e0c18459e"
      },
      "execution_count": 22,
      "outputs": [
        {
          "output_type": "stream",
          "name": "stderr",
          "text": [
            "Loss: 0.0038 : 100%|██████████| 20074/20074 [02:00<00:00, 166.94it/s]\n"
          ]
        }
      ]
    },
    {
      "cell_type": "code",
      "source": [
        "sum = 0\n",
        "with torch.no_grad():\n",
        "  for x, y in data_loader:\n",
        "    sum += (y == my_RNN(x).argmax(-1))\n",
        "sum/len(data_loader)"
      ],
      "metadata": {
        "colab": {
          "base_uri": "https://localhost:8080/"
        },
        "id": "hwKDGwKJxOM8",
        "outputId": "99f010e9-c55c-4ac2-b5d6-67a8f28f5495"
      },
      "execution_count": 23,
      "outputs": [
        {
          "output_type": "execute_result",
          "data": {
            "text/plain": [
              "tensor([0.7215])"
            ]
          },
          "metadata": {},
          "execution_count": 23
        }
      ]
    },
    {
      "cell_type": "code",
      "source": [],
      "metadata": {
        "id": "CZIcmjBU3Vg-"
      },
      "execution_count": null,
      "outputs": []
    }
  ]
}